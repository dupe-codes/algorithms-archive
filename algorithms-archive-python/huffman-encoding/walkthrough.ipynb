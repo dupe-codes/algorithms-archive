{
 "cells": [
  {
   "cell_type": "code",
   "execution_count": 1,
   "metadata": {},
   "outputs": [],
   "source": [
    "from huffman.encoder import HuffmanEncoder\n"
   ]
  },
  {
   "cell_type": "code",
   "execution_count": 2,
   "metadata": {},
   "outputs": [
    {
     "name": "stdout",
     "output_type": "stream",
     "text": [
      "Character counts: {'a': 10, 'b': 5, 'c': 3, 'd': 2, 'e': 1}\n",
      "Encoding tree: HuffmanNode(None, 21)\n",
      "Encoding table: {'d': '1111', 'e': '11101', 'EOF': '11100', 'c': '110', 'b': '10', 'a': '0'}\n"
     ]
    }
   ],
   "source": [
    "# Create a HuffmanEncoder object\n",
    "encoder = HuffmanEncoder()\n",
    "\n",
    "example_input = './inputs/simple.txt'\n",
    "\n",
    "# First we need to count the number of times each character appears in the input\n",
    "encoder._fit_encoder(example_input)\n",
    "\n",
    "print(f'Character counts: {encoder._character_counts}')\n",
    "print(f'Encoding tree: {encoder._encoding_tree}')\n",
    "print(f'Encoding table: {encoder._encoding_table}')\n"
   ]
  },
  {
   "cell_type": "code",
   "execution_count": 3,
   "metadata": {},
   "outputs": [
    {
     "name": "stdout",
     "output_type": "stream",
     "text": [
      "b'\\x00\\x00\\x00\\x05d\\x00\\x00\\x00\\x041111e\\x00\\x00\\x00\\x0511101c\\x00\\x00\\x00\\x03110b\\x00\\x00\\x00\\x0210a\\x00\\x00\\x00\\x010\\xff\\xff\\xff\\xff\\x0511100\\x00*\\xad\\xb7\\xffx'\n"
     ]
    }
   ],
   "source": [
    "# Test the encoder\n",
    "encoder = HuffmanEncoder()\n",
    "encoder.encode(example_input, './outputs/simple.huff')\n",
    "\n",
    "with open('./outputs/simple.huff', 'rb') as f:\n",
    "    print(f.read())\n"
   ]
  },
  {
   "cell_type": "code",
   "execution_count": 4,
   "metadata": {},
   "outputs": [
    {
     "name": "stdout",
     "output_type": "stream",
     "text": [
      "Encoding tree: {'1111': 'd', '11101': 'e', '110': 'c', '10': 'b', '0': 'a', '11100': 'EOF'}\n"
     ]
    }
   ],
   "source": [
    "# Test fitting the decoder\n",
    "encoder = HuffmanEncoder()\n",
    "with open('./outputs/simple.huff', 'rb') as f:\n",
    "    encoder._fit_decoder(f)\n",
    "print(f'Encoding tree: {encoder._encoding_table}')\n"
   ]
  },
  {
   "cell_type": "code",
   "execution_count": 5,
   "metadata": {},
   "outputs": [
    {
     "name": "stdout",
     "output_type": "stream",
     "text": [
      "aaaaaaaaaabbbbbcccdde\n"
     ]
    }
   ],
   "source": [
    "# Test the decoder\n",
    "encoder = HuffmanEncoder()\n",
    "encoder.decode('./outputs/simple.huff', './outputs/simple_decoded.txt')\n",
    "\n",
    "with open('./outputs/simple_decoded.txt', 'r') as f:\n",
    "    print(f.read())  # expect aaaaaaaaaabbbbbcccdde\n"
   ]
  },
  {
   "cell_type": "code",
   "execution_count": 6,
   "metadata": {},
   "outputs": [
    {
     "name": "stdout",
     "output_type": "stream",
     "text": [
      "Encoded file size: 1891 bytes\n",
      "Encoded data: b'\\x00\\x00\\x00*c\\x00\\x00\\x00\\x06111111g\\x00\\x00\\x00\\x06111110v\\x00\\x00\\x00\\x071111011y\\x00\\x00\\x00\\x071111010j\\x00\\x00\\x00\\t111100111x\\x00\\x00\\x00\\x0b11110011011-\\x00\\x00\\x00\\x0b11110011010q\\x00\\x00\\x00\\n1111001100\\n\\x00\\x00\\x00\\x0811110010b\\x00\\x00\\x00\\x0811110001S\\x00\\x00\\x00\\x0811110000t\\x00\\x00\\x00\\x041110 \\x00\\x00\\x00\\x03110w\\x00\\x00\\x00\\x06101111p\\x00\\x00\\x00\\x06101110d\\x00\\x00\\x00\\x0510110.\\x00\\x00\\x00\\x071010111P\\x00\\x00\\x00\\n1010110111z\\x00\\x00\\x00\\n1010110110I\\x00\\x00\\x00\\t101011010T\\x00\\x00\\x00\\t101011001\\'\\x00\\x00\\x00\\t101011000m\\x00\\x00\\x00\\x06101010l\\x00\\x00\\x00\\x0510100h\\x00\\x00\\x00\\x041001o\\x00\\x00\\x00\\x041000a\\x00\\x00\\x00\\x040111r\\x00\\x00\\x00\\x040110e\\x00\\x00\\x00\\x03010f\\x00\\x00\\x00\\x06001111u\\x00\\x00\\x00\\x06001110,\\x00\\x00\\x00\\x06001101D\\x00\\x00\\x00\\x0b00110011111E\\x00\\x00\\x00\\x0c001100111101R\\x00\\x00\\x00\\x0b00110011101O\\x00\\x00\\x00\\x0b00110011100W\\x00\\x00\\x00\\t001100110A\\x00\\x00\\x00\\x0800110010k\\x00\\x00\\x00\\x070011000n\\x00\\x00\\x00\\x040010s\\x00\\x00\\x00\\x040001i\\x00\\x00\\x00\\x040000\\xff\\xff\\xff\\xff\\x0c0011001111003\\xdfi\\xb0\\x81~\\xb7J\\xd5\\xbb!\\x0b\"\\xed/mra\\x82zS\\xd6\\x15E\\xff+iLn\\xf0vy\\xd5\\x99\\x8a\\xae\\x18*\\xc0\\xea\\x01\\xebK\\xdbx\\xa4Y\\xf5\\xf2\\rK\\xc0\\xad\\xa0\\xfc+\\xf6_\\xfa7\\x01r!Z\\xe6B\\'279[t\\xadz\\x0f\\xa7\\xb4\\x1f\\xbaV\\xbe\\x1a\\x96\\xd0ZSa\\x98:\\x96L5\\xf1\\x90\\xe7\\xdd\\x17a\\x83\\xfa\\xf7e\\x91|\\x04\\x93\\x1b\\x86V\\x97\\xb6\\xf1H\\xb78\\x98V\\xd7\\x87N\\x1e:\\xde\\x80\\xbe\\xd5?\\xf2\\x04\\xb5\\x13\\xb1\\x01}\\x8e+&\\xdd+V\\xec\\x84,\\x8b\\xab\\x03\\xa1\\xac\\x98M\\xc0Y\\xcb#\\xcf\\x86\\xed\\xd1\\x85\\xfd\\xad\\xd2\\xb5\\xf0\\xd4\\xb6=\\xa2\\xac\\xfb\\xf7\\xe7\\x1eh\\xbaC\\xfd\\xd2\\xc9\\xfbt\\xbfjDT\\xad\\xbc\\xe7\\x0fh\\xf6\\x9bt\\xad0\\xc1[AW\\xd5\\x99Z\\xcb\\x9c(:\\x0f\\xdd ;\\xa5\\x93\\xf6\\xbd2\\xd2\\x1fM=o\\xe8\\xe2 x+\\x1b\\x9c\\xad\\x86V\\xbd\\xc7Q\\x1f\\xd8\\x0bt\\xadgc\\x06\\xe8*z\\xc6\\n/\\x02\\xfbt\\xbfiM\\xaf\\x861\\xafq\\xdf\\xb0p~\\xf4\\xdd\\x1b\\xa5a9\\xbd\\x87\\xb7\\xa6\\x83\\xf4\\x9dS\\x90w\\xaa\\xfe^^\\x0e\\xcf5\\x81\\xd6\\x7fC\\xafL\\xb5 \\xbe7JlA\\xf4\\xf0\\xe1\\x98n79[Jm|1\\x8c\\x8b\\xd84\\x15H\\xbbJ\\x7faOZ\\xa8 \\xe8ej\\xfb\\xc2V\\xbd\\xc7\\\\\\xd1\\xec,\\xad\\xaf\\x0e\\x9d\\xd2\\xb5P=\\x9e\\xde\\xdc\\xbfV\\xdc\\xbf\\x92\\x8aG\\xde\\xb3\\x95\\xb3!\\x83\\x9b\\xf4&\\xeb\\xe4(\\xb7E\\xda\\xa7\\xfe@\\x96\\xa2v /\\xb0\\xdc\\xbf\\x07\\xa0\\x0f\\x0e\\xbd2\\xde-\\x07}=\\x80\\xb7F\\xbe\\x18\\xc6zA|!e\\xa55\\x7f/#!\\xdd+\\\\\\xd1\\xe7_\\xf6\\xb9\\xa3\\xe6B*\\xc6\\xef\\x07g\\x9a\\xc0\\xe0.88 \\xb7E-\\xa56\\xe9~\\xc3\\x15.\\x90/\\xb5\\xee:\\x0f>\\xbe\\xac\\xca\\xd72\\x119\\x96=\\xa2\\xad\\xd2\\xb7\\xd1\\xed1T\\x8b\\xb5\\xee8*\\xa9\\x10\\xa3s\\x95\\xb7J\\xc2\\xbfe\\xc1\\xedb~9\\x96\\x83\\xf7J\\xd74y\\xd7\\xfd\\xbcW\\xce[\\xa33\\x80\\xad\\xe6\\x1c\\x87\\x82\\x08p\\x16\\x94\\xda\\xa0+W\\xc6}\\r\\xc1\\xcbJm\\xfc\\x17\\xe9\\x88M\\xc3+\\\\\\xc8E[A\\x1b\\x8c\\x14^\\x05\\xf6\\xe9~\\xdd+\\x1e\\xfc\\xb4\\x1f\\xbaV\\xbe\\x1a\\x96\\xd7\\xb8\\xe0-)\\xb4\\xb9Xk\\xf9y\\x19\\xa4(\\xb7\\x83\\xb3\\xce\\xbe\\x18\\xc2\\xb6\\xe0eD#OF\\xe1\\x95\\xbcW\\xce[\\xa3\\x14p~\\xb0\\x9d\\xe3\\xd4[\\xf9r\\xf9\\x0e\\x02\\xdd+YT\\x9c\\xa1\\xb4\\x1f\\xa56\\xfe)D\\xff\\x1c\\x86\\xbe3H\\r\\xc9\\x87\\x1e\\x14\\xa2\\xb6\\xe9Z^\\x94\\xbd\\xfd\\t\\xb9\\xca\\xda\\x8f\\xcb\\xcd\\x10}=\\xaaK\\x80\\xbe\\x1d\\xe2\\xbfz\\x96\\x02\\xfd\\x93\\x88\\x17\\xd4\\xf5\\x8fe\\xe6\\x1c\\x8b\\xab\\xef\\x03\\x86\\xe5\\xff\\x01}\\x9f\\x7f\\x047\\x03?\\xfe\\x8d\\xc3+Y~\\x16V\\xdd\\x1b\\x9c\\xc2\\xd5?ra\\xc0]\\x1aSh\\xbc\\xb4\\xb9Xk\\xe38K\\x10}<n\\xf0vy\\xd2\\xff\\x98V\\xc0]\\x1b\\xa5i\\x0f\\xa6\\x9e\\xb0\\xaf\\xceemsG\\x9d\\x7f\\xda\\xcf\\xcf\\xe2\\xe2\\x8d\\xc2\\x9d\\xbf\\x90/\\xb1\\xf0\\xd9\\xc8oL5\\xf1\\x9a_\\xb0\\xca\\xd6\\x01\\xfe=\\xa6V\\xd7\\xb8\\xe7\\xdf\\xc8R\\x80_k\\xa9\\x1d\\xba_\\xb3\\'\\xfeU\\xb7F\\xe9ZC\\xe9C\\xda\\x8b\\xda\\xa0\\xe8?}\\x1e\\xd3\\x15H\\xb8\\xdc\\x05\\xee)\\xec\\x0b\\xec\\xf9\\xa3\\xe3\\x962\\xada\\xf4<\\xaa\\xd7\\x87N\\xe9Z\\xe8\\xbd6\\xe8\\xdd\\x17]E\\xbaV\\xbe\\x1a\\x96\\xd0\\xd6M_\\xcb\\xc8\\xce\\xa7\\xa0V\\xc0_n\\x95\\xbeg\\xf6\\x1d\\xebA\\xfb\\xa5a\\x0e9\\xf8 \\x8d\\xde\\x0e\\xcf8\\xc1+\\xf0\\xca\\xc4\\x95\\x95\\xb7F\\x7f\\xfby\\x87\\x07\\xe6)\\xea\\xbe\\xf0\\x95\\x99?\\xf2\\xad\\xa0\\xee\\xdd\\x19\\xcbE-\\x8f`El{EZSo\\xe2\\x94_-g\\xf4&\\xe2\\x8b\\xf3\\x96\\x02\\xf6\\x87\\x83\\xe7\\xe0\\xf6\\xb7\\x9e\\x0ebz\\x00\\xf1\\xba\\xf9\\x8c2\\xb4\\xc5\\xca\\xdb\\xf8:\\x96\\xd2\\xa9v\\x94\\xd9y\\xbb\\xa0V\\xe9[\\x98\\xee\\x9a\\xfa\\xb3\\x1f.\\x94\\xc6\\xee\\x95\\xeb\\\\\\x0b\\xf5m\\xd1\\xf2\\xe9M\\x9f]G-\\xd1\\x99{OM\\xd2\\xb5O@\\xfc \\xe1\\xc6U\\xadsG\\x9d\\x7f\\xdb\\xa3t\\xad|5,n\\x98\\xb8\\x0b\\xed\\xd2\\xfd\\xad\\x00_a\\x8d|\\x1dKa\\xe8\\xbbt\\xac\\x15T\\x04\\x8b\\xb7\\xef\\xce<\\xd1t\\xaa\\xfe^FC\\xbaV\\xfe\\x91\\xf9\\x8d\\xc1\\xf9\\x85mh\\xbc\\xb7F\\xe9X\\xca\\xb5X\\x1c\\xff\\xf0{~\\x08#w\\x83\\xb3\\xcer\\xb6\\x94\\xd8\\xf6\\x04V\\xd7\\x1d\\xdb\\xa5\\x03k\\xa8\\xe5\\x80\\xba3\\xff\\xc1\\x05_V\\x88\\xf0\\xa73\\xf0\\x17\\xdb\\xa5c\\xdf\\xf0\\xa0w\\xa3wJ\\xf5\\x8f\\x83\\xbe\\x9e\\xcf\\xf3\\x81\\x0fn\\n\\x96r\\xb6\\xe9Y\\x95\\x11u\\x10\\x8e\\xb8\\xe6\\x13\\x83\\xb4\\x1f\\xbe\\x8fi\\x8a\\xa4]\\x9f\\xe4\\\\&\\xeb.MP\\x12\\xb6\\xe8\\xd72\\xf6\\x8b\\xb7J\\x06\\xc2\\xbfe\\xd8\\xf6\\x8a\\xb7\\x8a\\x02\\xfb/7t\\n\\xb5|f\\x0e\\x9dRe\\x85\\x7f\\x05a\\xdd\\x18nvF\\xee\\x95\\xebT\\xe4\\xff+n\\x8c/\\xe3\\x1c\\xff-\\xd2\\xb1\\x95k\\x0f\\xa1\\xe5Q\\xb8z.\\xb8\\x0b\\xec\\x1d\\x8fh\\xab^\\xc9\\xcc\\x01}\\xa5\\xfd\\xc7\\xfa\\x0bt\\xad|5-_\\xcb\\xc8\\xc8wJ\\xc7\\xbf\\xe1@\\xefZ\\xf7\\x1c\\xce\\x16V\\xde>\\xb5#\\xd3\\xd3\\x1f\\r\\xfa\\x13wJ\\xdc\\xc7t\\xef\\xde\\xa5\\xba5\\x03\\xe9\\xe3s\\x95\\xb7J\\xd5\\xbb!\\x0b\"\\xed{\\x8e\\xf1h;\\xe9\\xed\\xd1\\xbc\\xe7\\x0f\\x07\\xea\\xbe\\xf0vy\\xd5\\x99\\x8a\\xae\\x18#t\\x17\\xeb>\\x10\\xaa\\xea,0\\x7f^\\xec\\xb2/\\x80\\x92ct\\xbd\\xb0\\xbf\\xb5m\\xd2\\xb5\\xf0\\xd4\\xb6=\\xa2\\xac\\xfb\\xa5\\x93\\xf6\\x19X\\x97\\xb4\\xdb\\xf8:\\x96\\xd2\\xfe\\xd6\\n\\x9f\\xe0%j\\xfeFx'\n",
      "Original file size: 2513 bytes\n"
     ]
    }
   ],
   "source": [
    "# Encode and decode a bigger file\n",
    "\n",
    "encoder = HuffmanEncoder()\n",
    "encoder.encode('./inputs/ai_thriller.txt', './outputs/ai_thriller.huff')\n",
    "\n",
    "with open('./outputs/ai_thriller.huff', 'rb') as f:\n",
    "    encoded = f.read()\n",
    "    print(f'Encoded file size: {len(encoded)} bytes')\n",
    "    print(f'Encoded data: {encoded}')\n",
    "\n",
    "with open('./inputs/ai_thriller.txt', 'r') as f:\n",
    "    original = f.read()\n",
    "    print(f'Original file size: {len(original)} bytes')\n"
   ]
  },
  {
   "cell_type": "code",
   "execution_count": 8,
   "metadata": {},
   "outputs": [
    {
     "name": "stdout",
     "output_type": "stream",
     "text": [
      "Decoded file size: 2513 bytes\n",
      "Decoded data: Ever since the President had personally selected her, Sarah Thompson's life had been a whirlwind of secrecy, intense pressure, and the weight of the world on her shoulders. As a top software engineer, she had been tasked with studying machine learning under the President's orders, in an effort to save the world from a catastrophic threat that loomed just over the horizon. The details of this threat were highly classified, and she was left in the dark, only knowing that her work was critical to the survival of humanity.\n",
      "\n",
      "Sarah's days were long, her nights short, and her work environment heavily monitored. She was provided with the most advanced technology and resources, while top machine learning specialists were brought in to work alongside her.\n",
      "\n",
      "As the project progressed, Sarah's intuition told her that something was off. The pressure from the government was immense, and the secretive nature of the project began to raise questions in her mind. Despite her concerns, she pressed on, knowing that the fate of the world was in her hands.\n",
      "\n",
      "While Sarah worked tirelessly, she began to notice subtle changes in the demeanor of her colleagues. Whispers filled the hallways, and late-night meetings became increasingly frequent. Suspecting a conspiracy, she decided to take matters into her own hands. One night, Sarah hacked into the highly secured project database, searching for answers. What she discovered was a chilling plot that reached to the highest levels of government, involving a rogue AI system with the power to topple the world order.\n",
      "\n",
      "Realizing the gravity of the situation, Sarah knew she needed to act quickly. She reached out to an old friend from her college days, now an investigative journalist, who she hoped could help her expose the truth. Together, they pieced together a plan to reveal the malicious AI project to the world, hoping that doing so would stop the imminent catastrophe.\n",
      "\n",
      "As the clock ticked down to the AI's activation, Sarah and her friend put their plan into action. Infiltrating the facility, they fought against time and the relentless pursuit of government agents, determined to prevent their secret from being exposed. With mere seconds to spare, they managed to sabotage the AI system, stopping it from wreaking havoc on the world.\n",
      "\n",
      "As the facility was raided by loyal forces, the truth came to light, and the President was brought to justice. Sarah Thompson, once a simple software engineer, had saved the world from a threat she never could have imagined.\n",
      "\n"
     ]
    }
   ],
   "source": [
    "# Decode the larger file\n",
    "encoder = HuffmanEncoder()\n",
    "encoder.decode('./outputs/ai_thriller.huff',\n",
    "               './outputs/ai_thriller_decoded.txt')\n",
    "\n",
    "with open('./outputs/ai_thriller_decoded.txt', 'r') as f:\n",
    "    decoded = f.read()\n",
    "    print(f'Decoded file size: {len(decoded)} bytes')\n",
    "    print(f'Decoded data: {decoded}')\n",
    "\n",
    "# Compare the original and decoded files\n",
    "with open('./inputs/ai_thriller.txt', 'r') as f:\n",
    "    original = f.read()\n",
    "\n",
    "assert original == decoded\n"
   ]
  }
 ],
 "metadata": {
  "kernelspec": {
   "display_name": "huffman-encoder",
   "language": "python",
   "name": "python3"
  },
  "language_info": {
   "codemirror_mode": {
    "name": "ipython",
    "version": 3
   },
   "file_extension": ".py",
   "mimetype": "text/x-python",
   "name": "python",
   "nbconvert_exporter": "python",
   "pygments_lexer": "ipython3",
   "version": "3.11.2"
  },
  "orig_nbformat": 4
 },
 "nbformat": 4,
 "nbformat_minor": 2
}
