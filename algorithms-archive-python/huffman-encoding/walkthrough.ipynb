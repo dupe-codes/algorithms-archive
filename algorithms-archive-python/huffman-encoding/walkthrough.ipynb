{
 "cells": [
  {
   "cell_type": "code",
   "execution_count": 1,
   "metadata": {},
   "outputs": [],
   "source": [
    "from huffman.encoder import HuffmanEncoder\n"
   ]
  },
  {
   "cell_type": "code",
   "execution_count": 2,
   "metadata": {},
   "outputs": [
    {
     "name": "stdout",
     "output_type": "stream",
     "text": [
      "Character counts: {'a': 10, 'b': 5, 'c': 3, 'd': 2, 'e': 1}\n",
      "Encoding tree: HuffmanNode(None, 21)\n",
      "Encoding table: {'d': '1111', 'e': '11101', 'EOF': '11100', 'c': '110', 'b': '10', 'a': '0'}\n"
     ]
    }
   ],
   "source": [
    "# Create a HuffmanEncoder object\n",
    "encoder = HuffmanEncoder()\n",
    "\n",
    "example_input = './inputs/simple.txt'\n",
    "\n",
    "# First we need to count the number of times each character appears in the input\n",
    "encoder._fit_encoder(example_input)\n",
    "\n",
    "print(f'Character counts: {encoder._character_counts}')\n",
    "print(f'Encoding tree: {encoder._encoding_tree}')\n",
    "print(f'Encoding table: {encoder._encoding_table}')\n"
   ]
  },
  {
   "cell_type": "code",
   "execution_count": 3,
   "metadata": {},
   "outputs": [
    {
     "name": "stdout",
     "output_type": "stream",
     "text": [
      "b'\\x00\\x00\\x00L{\"d\": \"1111\", \"e\": \"11101\", \"EOF\": \"11100\", \"c\": \"110\", \"b\": \"10\", \"a\": \"0\"}\\x00*\\xad\\xb7\\xffx'\n"
     ]
    }
   ],
   "source": [
    "# Test the encoder\n",
    "encoder = HuffmanEncoder()\n",
    "encoder.encode(example_input, './outputs/simple.huff')\n",
    "\n",
    "with open('./outputs/simple.huff', 'rb') as f:\n",
    "    print(f.read())\n"
   ]
  },
  {
   "cell_type": "code",
   "execution_count": 5,
   "metadata": {},
   "outputs": [
    {
     "name": "stdout",
     "output_type": "stream",
     "text": [
      "Encoding tree: {'1111': 'd', '11101': 'e', '11100': 'EOF', '110': 'c', '10': 'b', '0': 'a'}\n"
     ]
    }
   ],
   "source": [
    "# Test fitting the decoder\n",
    "encoder = HuffmanEncoder()\n",
    "with open('./outputs/simple.huff', 'rb') as f:\n",
    "    encoder._fit_decoder(f)\n",
    "print(f'Encoding tree: {encoder._encoding_table}')\n"
   ]
  },
  {
   "cell_type": "code",
   "execution_count": 6,
   "metadata": {},
   "outputs": [
    {
     "name": "stdout",
     "output_type": "stream",
     "text": [
      "aaaaaaaaaabbbbbcccdde\n"
     ]
    }
   ],
   "source": [
    "# Test the decoder\n",
    "encoder = HuffmanEncoder()\n",
    "encoder.decode('./outputs/simple.huff', './outputs/simple_decoded.txt')\n",
    "\n",
    "with open('./outputs/simple_decoded.txt', 'r') as f:\n",
    "    print(f.read())  # expect aaaaaaaaaabbbbbcccdde\n"
   ]
  },
  {
   "cell_type": "code",
   "execution_count": null,
   "metadata": {},
   "outputs": [],
   "source": [
    "# Encode and decode a bigger file\n",
    "\n",
    "encoder = HuffmanEncoder()\n",
    "encoder.encode('./inputs/ai_thriller.txt', './outputs/ai_thriller.huff')\n",
    "\n",
    "with open('./outputs/ai_thriller.huff', 'rb') as f:\n",
    "    encoded = f.read()\n",
    "    print(f'Encoded file size: {len(encoded)} bytes')\n",
    "    print(f'Encoded data: {encoded}')\n",
    "\n",
    "with open('./inputs/ai_thriller.txt', 'r') as f:\n",
    "    original = f.read()\n",
    "    print(f'Original file size: {len(original)} bytes')\n"
   ]
  }
 ],
 "metadata": {
  "kernelspec": {
   "display_name": "huffman-encoder",
   "language": "python",
   "name": "python3"
  },
  "language_info": {
   "codemirror_mode": {
    "name": "ipython",
    "version": 3
   },
   "file_extension": ".py",
   "mimetype": "text/x-python",
   "name": "python",
   "nbconvert_exporter": "python",
   "pygments_lexer": "ipython3",
   "version": "3.11.2"
  },
  "orig_nbformat": 4
 },
 "nbformat": 4,
 "nbformat_minor": 2
}
