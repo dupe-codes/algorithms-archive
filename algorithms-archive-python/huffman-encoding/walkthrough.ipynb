{
 "cells": [
  {
   "cell_type": "code",
   "execution_count": 1,
   "metadata": {},
   "outputs": [],
   "source": [
    "from huffman.encoder import HuffmanEncoder\n"
   ]
  },
  {
   "cell_type": "code",
   "execution_count": 2,
   "metadata": {},
   "outputs": [
    {
     "name": "stdout",
     "output_type": "stream",
     "text": [
      "Character counts: {'a': 10, 'b': 5, 'c': 3, 'd': 2, 'e': 1}\n",
      "Encoding tree: HuffmanNode(None, 21)\n",
      "Encoding table: {'d': '1111', 'e': '11101', 'EOF': '11100', 'c': '110', 'b': '10', 'a': '0'}\n"
     ]
    }
   ],
   "source": [
    "# Create a HuffmanEncoder object\n",
    "encoder = HuffmanEncoder()\n",
    "\n",
    "example_input = './inputs/simple.txt'\n",
    "\n",
    "# First we need to count the number of times each character appears in the input\n",
    "encoder._fit_encoder(example_input)\n",
    "\n",
    "print(f'Character counts: {encoder._character_counts}')\n",
    "print(f'Encoding tree: {encoder._encoding_tree}')\n",
    "print(f'Encoding table: {encoder._encoding_table}')\n"
   ]
  }
 ],
 "metadata": {
  "kernelspec": {
   "display_name": "huffman-encoder",
   "language": "python",
   "name": "python3"
  },
  "language_info": {
   "codemirror_mode": {
    "name": "ipython",
    "version": 3
   },
   "file_extension": ".py",
   "mimetype": "text/x-python",
   "name": "python",
   "nbconvert_exporter": "python",
   "pygments_lexer": "ipython3",
   "version": "3.11.2"
  },
  "orig_nbformat": 4
 },
 "nbformat": 4,
 "nbformat_minor": 2
}
