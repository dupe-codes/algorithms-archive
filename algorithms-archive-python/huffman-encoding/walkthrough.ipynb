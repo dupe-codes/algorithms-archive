{
 "cells": [
  {
   "cell_type": "code",
   "execution_count": 2,
   "metadata": {},
   "outputs": [],
   "source": [
    "from huffman.encoder import HuffmanEncoder\n"
   ]
  },
  {
   "cell_type": "code",
   "execution_count": 3,
   "metadata": {},
   "outputs": [
    {
     "name": "stdout",
     "output_type": "stream",
     "text": [
      "[HuffmanNode(E, 1), HuffmanNode(D, 1), HuffmanNode(P, 3), HuffmanNode(-, 1), HuffmanNode(R, 1), HuffmanNode(b, 12), HuffmanNode(A, 8), HuffmanNode(T, 5), HuffmanNode(O, 1), HuffmanNode(x, 2), HuffmanNode(S, 11), HuffmanNode(f, 36), HuffmanNode(u, 35), HuffmanNode(p, 41), HuffmanNode(k, 15), HuffmanNode(v, 27), HuffmanNode(j, 7), HuffmanNode(W, 4), HuffmanNode(z, 2), HuffmanNode(I, 5), HuffmanNode(', 5), HuffmanNode(t, 192), HuffmanNode(m, 38), HuffmanNode(e, 276), HuffmanNode(d, 84), HuffmanNode(i, 127), HuffmanNode(w, 44), HuffmanNode(a, 144), HuffmanNode(g, 54), HuffmanNode(s, 130), HuffmanNode(., 21), HuffmanNode(o, 145), HuffmanNode(l, 74), HuffmanNode(r, 138), HuffmanNode(\n",
      ", 13), HuffmanNode(n, 134), HuffmanNode(,, 34), HuffmanNode(c, 60), HuffmanNode(q, 3), HuffmanNode( , 406), HuffmanNode(y, 26), HuffmanNode(h, 147)]\n",
      "Character counts: {'E': 1, 'v': 27, 'e': 276, 'r': 138, ' ': 406, 's': 130, 'i': 127, 'n': 134, 'c': 60, 't': 192, 'h': 147, 'P': 3, 'd': 84, 'a': 144, 'p': 41, 'o': 145, 'l': 74, 'y': 26, ',': 34, 'S': 11, 'T': 5, 'm': 38, \"'\": 5, 'f': 36, 'b': 12, 'w': 44, 'u': 35, 'g': 54, '.': 21, 'A': 8, 'k': 15, 'j': 7, 'z': 2, '\\n': 13, 'q': 3, 'D': 1, 'W': 4, '-': 1, 'O': 1, 'I': 5, 'R': 1, 'x': 2}\n",
      "Encoding tree: HuffmanNode(None, 2513)\n",
      "Encoding table: {'c': '111111', 'g': '111110', 'v': '1111011', 'y': '1111010', 'j': '111100111', 'x': '11110011011', 'O': '11110011010', 'q': '1111001100', '\\n': '11110010', 'b': '11110001', 'S': '11110000', 't': '1110', ' ': '110', 'w': '101111', 'p': '101110', 'd': '10110', '.': '1010111', 'T': '101011011', 'P': '1010110101', 'z': '1010110100', \"'\": '101011001', 'I': '101011000', 'm': '101010', 'l': '10100', 'h': '1001', 'o': '1000', 'a': '0111', 'r': '0110', 'e': '010', 'f': '001111', 'u': '001110', ',': '001101', '-': '00110011111', 'R': '00110011110', 'D': '00110011101', 'E': '00110011100', 'W': '001100110', 'A': '00110010', 'k': '0011000', 'n': '0010', 's': '0001', 'i': '0000'}\n"
     ]
    }
   ],
   "source": [
    "# Create a HuffmanEncoder object\n",
    "encoder = HuffmanEncoder()\n",
    "\n",
    "example_input = './inputs/ai_thriller.txt'\n",
    "\n",
    "# First we need to count the number of times each character appears in the input\n",
    "encoder.fit_encoder(example_input)\n",
    "\n",
    "print(f'Character counts: {encoder._character_counts}')\n",
    "print(f'Encoding tree: {encoder._encoding_tree}')\n",
    "print(f'Encoding table: {encoder._encoding_table}')\n"
   ]
  }
 ],
 "metadata": {
  "kernelspec": {
   "display_name": "huffman-encoder",
   "language": "python",
   "name": "python3"
  },
  "language_info": {
   "codemirror_mode": {
    "name": "ipython",
    "version": 3
   },
   "file_extension": ".py",
   "mimetype": "text/x-python",
   "name": "python",
   "nbconvert_exporter": "python",
   "pygments_lexer": "ipython3",
   "version": "3.11.2"
  },
  "orig_nbformat": 4
 },
 "nbformat": 4,
 "nbformat_minor": 2
}
